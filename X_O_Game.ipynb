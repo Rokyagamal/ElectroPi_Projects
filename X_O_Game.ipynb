{
 "cells": [
  {
   "cell_type": "code",
   "execution_count": 1,
   "id": "ed41cad5",
   "metadata": {},
   "outputs": [],
   "source": [
    "# Function to print the game board\n",
    "def print_board(board):\n",
    "    for row in board:\n",
    "        print(\"|\".join(row))\n",
    "        print(\"-\" * 5)"
   ]
  },
  {
   "cell_type": "code",
   "execution_count": 2,
   "id": "b93de6f9",
   "metadata": {},
   "outputs": [],
   "source": [
    "# Function to check for a win\n",
    "def check_win(board, player):\n",
    "    # Check rows\n",
    "    for row in board:\n",
    "        if all(square == player for square in row):\n",
    "            return True\n",
    "    # Check columns\n",
    "    for col in range(3):\n",
    "        if all(board[row][col] == player for row in range(3)):\n",
    "            return True\n",
    "    # Check diagonals\n",
    "    if board[0][0] == board[1][1] == board[2][2] == player:\n",
    "        return True\n",
    "\n",
    "    if board[0][2] == board[1][1] == board[2][0] == player:\n",
    "        return True\n",
    "\n",
    "    return False"
   ]
  },
  {
   "cell_type": "code",
   "execution_count": 3,
   "id": "4e62ebc1",
   "metadata": {},
   "outputs": [],
   "source": [
    "# Function to check for a tie\n",
    "def check_tie(board):\n",
    "    for row in board:\n",
    "        if \"\" in row:\n",
    "            return False\n",
    "    return True"
   ]
  },
  {
   "cell_type": "code",
   "execution_count": 4,
   "id": "c8bccf72",
   "metadata": {},
   "outputs": [],
   "source": [
    "# Create an empty game board\n",
    "board = [[\"\", \"\", \"\"], [\"\", \"\", \"\"], [\"\", \"\", \"\"]]"
   ]
  },
  {
   "cell_type": "code",
   "execution_count": 5,
   "id": "83f54d22",
   "metadata": {},
   "outputs": [],
   "source": [
    "# Keep track of the current player\n",
    "current_player = \"X\""
   ]
  },
  {
   "cell_type": "code",
   "execution_count": 6,
   "id": "90d6cc55",
   "metadata": {},
   "outputs": [
    {
     "name": "stdout",
     "output_type": "stream",
     "text": [
      "||\n",
      "-----\n",
      "||\n",
      "-----\n",
      "||\n",
      "-----\n",
      "Enter the row (0-2): 0\n",
      "Enter the column (0-2): 0\n",
      "X||\n",
      "-----\n",
      "||\n",
      "-----\n",
      "||\n",
      "-----\n",
      "Enter the row (0-2): 0\n",
      "Enter the column (0-2): 1\n",
      "X|O|\n",
      "-----\n",
      "||\n",
      "-----\n",
      "||\n",
      "-----\n",
      "Enter the row (0-2): 1\n",
      "Enter the column (0-2): 1\n",
      "X|O|\n",
      "-----\n",
      "|X|\n",
      "-----\n",
      "||\n",
      "-----\n",
      "Enter the row (0-2): 2\n",
      "Enter the column (0-2): 2\n",
      "X|O|\n",
      "-----\n",
      "|X|\n",
      "-----\n",
      "||O\n",
      "-----\n",
      "Enter the row (0-2): 1\n",
      "Enter the column (0-2): 1\n",
      "Invalid move! Try again.\n",
      "X|O|\n",
      "-----\n",
      "|X|\n",
      "-----\n",
      "||O\n",
      "-----\n",
      "Enter the row (0-2): 1\n",
      "Enter the column (0-2): 0\n",
      "X|O|\n",
      "-----\n",
      "X|X|\n",
      "-----\n",
      "||O\n",
      "-----\n",
      "Enter the row (0-2): 2\n",
      "Enter the column (0-2): 1\n",
      "X|O|\n",
      "-----\n",
      "X|X|\n",
      "-----\n",
      "|O|O\n",
      "-----\n",
      "Enter the row (0-2): 2\n",
      "Enter the column (0-2): 0\n",
      "X|O|\n",
      "-----\n",
      "X|X|\n",
      "-----\n",
      "X|O|O\n",
      "-----\n",
      "Player X wins!\n"
     ]
    }
   ],
   "source": [
    "# Main game loop\n",
    "while True:\n",
    "    # Print the current state of the game board\n",
    "    print_board(board)\n",
    "\n",
    "    # Prompt the current player for their move\n",
    "    row = int(input(\"Enter the row (0-2): \"))\n",
    "    col = int(input(\"Enter the column (0-2): \"))\n",
    "\n",
    "    # Update the game board with the player's move\n",
    "    if board[row][col] == \"\":\n",
    "        board[row][col] = current_player\n",
    "    else:\n",
    "        print(\"Invalid move! Try again.\")\n",
    "        continue\n",
    "\n",
    "    # Check if the current player has won\n",
    "    if check_win(board, current_player):\n",
    "        print_board(board)\n",
    "        print(\"Player\", current_player, \"wins!\")\n",
    "        break\n",
    "\n",
    "    # Check if the game is tied\n",
    "    if check_tie(board):\n",
    "        print_board(board)\n",
    "        print(\"It's a tie!\")\n",
    "        break\n",
    "\n",
    "    # Switch to the other player\n",
    "    current_player = \"O\" if current_player == \"X\" else \"X\""
   ]
  },
  {
   "cell_type": "code",
   "execution_count": null,
   "id": "ff80c96f",
   "metadata": {},
   "outputs": [],
   "source": []
  }
 ],
 "metadata": {
  "kernelspec": {
   "display_name": "Python 3 (ipykernel)",
   "language": "python",
   "name": "python3"
  },
  "language_info": {
   "codemirror_mode": {
    "name": "ipython",
    "version": 3
   },
   "file_extension": ".py",
   "mimetype": "text/x-python",
   "name": "python",
   "nbconvert_exporter": "python",
   "pygments_lexer": "ipython3",
   "version": "3.9.13"
  }
 },
 "nbformat": 4,
 "nbformat_minor": 5
}
